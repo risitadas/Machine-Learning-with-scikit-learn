{
  "nbformat": 4,
  "nbformat_minor": 0,
  "metadata": {
    "colab": {
      "name": "classification report-spam.ipynb",
      "provenance": [],
      "authorship_tag": "ABX9TyOCg3ZKtKNqbPmIMSEJjnYM",
      "include_colab_link": true
    },
    "kernelspec": {
      "name": "python3",
      "display_name": "Python 3"
    },
    "language_info": {
      "name": "python"
    }
  },
  "cells": [
    {
      "cell_type": "markdown",
      "metadata": {
        "id": "view-in-github",
        "colab_type": "text"
      },
      "source": [
        "<a href=\"https://colab.research.google.com/github/risitadas/Machine-Learning-with-scikit-learn/blob/main/classification_report_spam.ipynb\" target=\"_parent\"><img src=\"https://colab.research.google.com/assets/colab-badge.svg\" alt=\"Open In Colab\"/></a>"
      ]
    },
    {
      "cell_type": "markdown",
      "source": [
        "SMS Spam Detection Dataset"
      ],
      "metadata": {
        "id": "4laQqSotU9ty"
      }
    },
    {
      "cell_type": "markdown",
      "source": [
        "importing necessary libraries and dataset"
      ],
      "metadata": {
        "id": "woDz0XltVDwu"
      }
    },
    {
      "cell_type": "code",
      "source": [
        "import pandas as pd\n",
        "import numpy as np\n",
        "from sklearn.feature_extraction.text import CountVectorizer\n",
        "from sklearn.model_selection import train_test_split\n",
        "from sklearn.naive_bayes import MultinomialNB"
      ],
      "metadata": {
        "id": "Xs5lANreVDOj"
      },
      "execution_count": 1,
      "outputs": []
    },
    {
      "cell_type": "code",
      "source": [
        "raw_sms = pd.read_csv(\"https://raw.githubusercontent.com/risitadas/Machine-Learning-with-scikit-learn/main/spam-csv.csv\", encoding= 'latin-1')\n"
      ],
      "metadata": {
        "id": "qlTvPKEwWcaH"
      },
      "execution_count": 14,
      "outputs": []
    },
    {
      "cell_type": "code",
      "source": [
        "raw_sms = raw_sms[[\"v1\", \"v2\"]]\n",
        "x = np.array(raw_sms[\"v2\"])\n",
        "y = np.array(raw_sms[\"v1\"])"
      ],
      "metadata": {
        "id": "RKU72EsdXXif"
      },
      "execution_count": 11,
      "outputs": []
    },
    {
      "cell_type": "markdown",
      "source": [
        "fitting the data"
      ],
      "metadata": {
        "id": "NKOuNazOYApE"
      }
    },
    {
      "cell_type": "code",
      "source": [
        "cv = CountVectorizer()\n",
        "X = cv.fit_transform(x) \n",
        "X_train, X_test, y_train, y_test = train_test_split(X, y, test_size=0.33, random_state=42)\n",
        "clf = MultinomialNB()\n",
        "clf.fit(X_train,y_train)\n",
        "predictions = clf.predict(X_test)\n"
      ],
      "metadata": {
        "id": "W6JmYLBtYC5m"
      },
      "execution_count": 12,
      "outputs": []
    },
    {
      "cell_type": "markdown",
      "source": [
        "classification report"
      ],
      "metadata": {
        "id": "JlewXcLUYHam"
      }
    },
    {
      "cell_type": "code",
      "source": [
        "from sklearn.metrics import classification_report\n",
        "print(classification_report(y_test, predictions))"
      ],
      "metadata": {
        "colab": {
          "base_uri": "https://localhost:8080/"
        },
        "id": "0hoCsy4DYKQ2",
        "outputId": "92b0c693-66ef-4503-9408-0b3bb61b6563"
      },
      "execution_count": 13,
      "outputs": [
        {
          "output_type": "stream",
          "name": "stdout",
          "text": [
            "              precision    recall  f1-score   support\n",
            "\n",
            "         ham       0.99      0.99      0.99      1587\n",
            "        spam       0.93      0.92      0.92       252\n",
            "\n",
            "    accuracy                           0.98      1839\n",
            "   macro avg       0.96      0.95      0.96      1839\n",
            "weighted avg       0.98      0.98      0.98      1839\n",
            "\n"
          ]
        }
      ]
    },
    {
      "cell_type": "markdown",
      "source": [
        "therefore, this is how we display the classification report of our model"
      ],
      "metadata": {
        "id": "Iv2_6Y41YSxc"
      }
    }
  ]
}